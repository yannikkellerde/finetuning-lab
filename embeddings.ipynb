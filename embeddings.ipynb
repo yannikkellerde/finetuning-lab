{
 "cells": [
  {
   "cell_type": "code",
   "execution_count": 36,
   "id": "be63d3a5-0044-42e4-bd62-8df224530c0d",
   "metadata": {
    "tags": []
   },
   "outputs": [],
   "source": [
    "from transformers import AutoModelForCausalLM, AutoTokenizer\n",
    "import torch\n",
    "import os\n",
    "import itertools\n",
    "from sklearn.decomposition import PCA, IncrementalPCA\n",
    "import matplotlib.pyplot as plt"
   ]
  },
  {
   "cell_type": "code",
   "execution_count": 2,
   "id": "377d1726-acc0-4953-af68-cf235808bdf6",
   "metadata": {
    "tags": []
   },
   "outputs": [],
   "source": [
    "# model = AutoModelForCausalLM.from_pretrained(\"meta-llama/Meta-Llama-3-8B\")\n",
    "# in_embed_name = \"model.embed_tokens.weight\"\n",
    "# out_embed_name = \"lm_head.weight\"\n",
    "#\n",
    "# all_params = dict(model.named_parameters())\n",
    "# input_embeds = all_params[in_embed_name].data\n",
    "# output_embeds = all_params[out_embed_name].data\n",
    "#\n",
    "#\n",
    "# torch.save(input_embeds, \"data/input_embeds.pt\")\n",
    "# torch.save(output_embeds, \"data/output_embeds.pt\")"
   ]
  },
  {
   "cell_type": "code",
   "execution_count": 3,
   "id": "005538d3",
   "metadata": {},
   "outputs": [
    {
     "name": "stderr",
     "output_type": "stream",
     "text": [
      "Special tokens have been added in the vocabulary, make sure the associated word embeddings are fine-tuned or trained.\n"
     ]
    }
   ],
   "source": [
    "tk = AutoTokenizer.from_pretrained(\"meta-llama/Meta-Llama-3-8B\")"
   ]
  },
  {
   "cell_type": "code",
   "execution_count": 50,
   "id": "44339dff-ae4b-4b3a-9de9-c3c9511263d9",
   "metadata": {
    "tags": []
   },
   "outputs": [],
   "source": [
    "input_embeds = torch.load(\"data/input_embeds.pt\")\n",
    "output_embeds = torch.load(\"data/output_embeds.pt\")"
   ]
  },
  {
   "cell_type": "code",
   "execution_count": 5,
   "id": "72dba628-97dd-4da7-aa4b-bb33a2c28cfc",
   "metadata": {
    "tags": []
   },
   "outputs": [
    {
     "data": {
      "text/plain": [
       "torch.Size([128256, 4096])"
      ]
     },
     "execution_count": 5,
     "metadata": {},
     "output_type": "execute_result"
    }
   ],
   "source": [
    "input_embeds.shape"
   ]
  },
  {
   "cell_type": "code",
   "execution_count": 6,
   "id": "e48bc2de-29d6-4400-80d6-33f47bf2b582",
   "metadata": {
    "tags": []
   },
   "outputs": [],
   "source": [
    "king, queen, male, female = tk.convert_tokens_to_ids(\n",
    "    [\"Ġking\", \"Ġqueen\", \"Ġmale\", \"Ġfemale\"]\n",
    ")"
   ]
  },
  {
   "cell_type": "code",
   "execution_count": 7,
   "id": "eaab2448-d9e0-4148-816d-da4c8963d201",
   "metadata": {
    "tags": []
   },
   "outputs": [
    {
     "data": {
      "text/plain": [
       "(11734, 29006, 8762, 8954)"
      ]
     },
     "execution_count": 7,
     "metadata": {},
     "output_type": "execute_result"
    }
   ],
   "source": [
    "king, queen, male, female"
   ]
  },
  {
   "cell_type": "code",
   "execution_count": 8,
   "id": "9b5382b4-bd49-4e21-8da5-7dc48f81c171",
   "metadata": {
    "tags": []
   },
   "outputs": [],
   "source": [
    "k, q, m, f = [input_embeds[x] for x in (king, queen, male, female)]"
   ]
  },
  {
   "cell_type": "code",
   "execution_count": 9,
   "id": "dfffd012-ce2e-40c6-b8e5-69058712ff76",
   "metadata": {
    "tags": []
   },
   "outputs": [
    {
     "data": {
      "text/plain": [
       "torch.Size([4096])"
      ]
     },
     "execution_count": 9,
     "metadata": {},
     "output_type": "execute_result"
    }
   ],
   "source": [
    "k.shape"
   ]
  },
  {
   "cell_type": "code",
   "execution_count": 10,
   "id": "6db4d9bd-de10-4d1b-ae26-5f1b518d2299",
   "metadata": {
    "tags": []
   },
   "outputs": [
    {
     "data": {
      "text/plain": [
       "(tensor(31.1095), tensor(27.2039), tensor(37.4152), tensor(35.8423))"
      ]
     },
     "execution_count": 10,
     "metadata": {},
     "output_type": "execute_result"
    }
   ],
   "source": [
    "torch.sum((k - q).abs()), torch.sum((m - f).abs()), torch.sum((k - f).abs()), torch.sum(\n",
    "    (k - m).abs()\n",
    ")"
   ]
  },
  {
   "cell_type": "code",
   "execution_count": 11,
   "id": "dd7dcbb4-0d05-44ec-8123-f6731069dc2e",
   "metadata": {
    "tags": []
   },
   "outputs": [
    {
     "data": {
      "text/plain": [
       "tensor(41.0893)"
      ]
     },
     "execution_count": 11,
     "metadata": {},
     "output_type": "execute_result"
    }
   ],
   "source": [
    "torch.sum(((k + f - m) - q).abs())"
   ]
  },
  {
   "cell_type": "code",
   "execution_count": 12,
   "id": "62358207-c6b2-4f59-94b8-eadd05444884",
   "metadata": {
    "tags": []
   },
   "outputs": [],
   "source": [
    "def king_queen_test(embeds, tk):\n",
    "    def norm1(x):\n",
    "        return torch.sum(torch.abs(x)).item()\n",
    "\n",
    "    king, queen, male, female = tk.convert_tokens_to_ids(\n",
    "        [\"Ġking\", \"Ġqueen\", \"Ġmale\", \"Ġfemale\"]\n",
    "    )\n",
    "    k, q, m, f = [embeds[x] for x in (king, queen, male, female)]\n",
    "    print(\"king - queen\", norm1(k - q))\n",
    "    print(\"male - female\", norm1(m - f))\n",
    "    print(\"king - male\", norm1(k - m))\n",
    "    print(\"king - female\", norm1(k - f))\n",
    "    print(\"king + female - male - queen\", norm1(k + f - m - q))"
   ]
  },
  {
   "cell_type": "code",
   "execution_count": 13,
   "id": "9e28e3c0-58a3-4dfe-a6c5-0ce3cc5699ce",
   "metadata": {
    "tags": []
   },
   "outputs": [
    {
     "name": "stdout",
     "output_type": "stream",
     "text": [
      "king - queen 31.109458923339844\n",
      "male - female 27.203916549682617\n",
      "king - male 35.84231185913086\n",
      "king - female 37.41519546508789\n",
      "king + female - male - queen 41.089317321777344\n"
     ]
    }
   ],
   "source": [
    "king_queen_test(input_embeds, tk)"
   ]
  },
  {
   "cell_type": "code",
   "execution_count": 15,
   "id": "cc7742e8-9619-472b-98a3-c24e56063ec6",
   "metadata": {
    "tags": []
   },
   "outputs": [],
   "source": [
    "# king_queen_test(output_embeds, tk)"
   ]
  },
  {
   "cell_type": "code",
   "execution_count": 41,
   "id": "28f113ef-1860-48b7-ae7a-a706416ad18b",
   "metadata": {},
   "outputs": [],
   "source": [
    "appearance_adjectives = (\n",
    "    \"attractive\",\n",
    "    \"bald\",\n",
    "    \"beautiful\",\n",
    "    \"chubby\",\n",
    "    \"clean\",\n",
    "    \"dazzling\",\n",
    "    \"drab\",\n",
    "    \"elegant\",\n",
    "    \"fancy\",\n",
    "    \"fit\",\n",
    "    \"flabby\",\n",
    "    \"glamorous\",\n",
    "    \"gorgeous\",\n",
    "    \"handsome\",\n",
    "    \"long\",\n",
    "    \"magnificent\",\n",
    "    \"muscular\",\n",
    "    \"plain\",\n",
    "    \"plump\",\n",
    "    \"quaint\",\n",
    "    \"scruffy\",\n",
    "    \"shapely\",\n",
    "    \"short\",\n",
    "    \"skinny\",\n",
    "    \"stocky\",\n",
    "    \"ugly\",\n",
    "    \"unkempt\",\n",
    "    \"unsightly\",\n",
    ")"
   ]
  },
  {
   "cell_type": "code",
   "execution_count": 42,
   "id": "84c9e180",
   "metadata": {},
   "outputs": [],
   "source": [
    "color_adjectives = (\n",
    "    \"ashy\",\n",
    "    \"black\",\n",
    "    \"blue\",\n",
    "    \"gray\",\n",
    "    \"green\",\n",
    "    \"icy\",\n",
    "    \"lemon\",\n",
    "    \"mango\",\n",
    "    \"orange\",\n",
    "    \"purple\",\n",
    "    \"red\",\n",
    "    \"salmon\",\n",
    "    \"white\",\n",
    "    \"yellow\",\n",
    ")"
   ]
  },
  {
   "cell_type": "code",
   "execution_count": 43,
   "id": "8d5555f3",
   "metadata": {},
   "outputs": [],
   "source": [
    "places = (\n",
    "    \"School\",\n",
    "    \"Hospital\",\n",
    "    \"Restaurant\",\n",
    "    \"Airport\",\n",
    "    \"Office\",\n",
    "    \"Beach\",\n",
    "    \"Forest\",\n",
    "    \"Church\",\n",
    "    \"Library\",\n",
    "    \"Theater\",\n",
    ")"
   ]
  },
  {
   "cell_type": "code",
   "execution_count": 44,
   "id": "99faadc5",
   "metadata": {},
   "outputs": [],
   "source": [
    "verbs = (\n",
    "    \"Be\",\n",
    "    \"Have\",\n",
    "    \"Do\",\n",
    "    \"Make\",\n",
    "    \"Go\",\n",
    "    \"Take\",\n",
    "    \"Come\",\n",
    "    \"See\",\n",
    "    \"Get\",\n",
    "    \"Give\",\n",
    "    \"Know\",\n",
    "    \"Think\",\n",
    "    \"Find\",\n",
    "    \"Say\",\n",
    "    \"Tell\",\n",
    "    \"Use\",\n",
    "    \"Look\",\n",
    "    \"Work\",\n",
    "    \"Call\",\n",
    "    \"Try\",\n",
    "    \"Ask\",\n",
    "    \"Leave\",\n",
    "    \"Feel\",\n",
    "    \"Put\",\n",
    "    \"Mean\",\n",
    "    \"Keep\",\n",
    "    \"Let\",\n",
    "    \"Begin\",\n",
    "    \"Seem\",\n",
    "    \"Help\",\n",
    "    \"Talk\",\n",
    "    \"Turn\",\n",
    "    \"Start\",\n",
    "    \"Might\",\n",
    "    \"Show\",\n",
    "    \"Hear\",\n",
    "    \"Play\",\n",
    "    \"Run\",\n",
    "    \"Move\",\n",
    "    \"Like\",\n",
    "    \"Live\",\n",
    "    \"Believe\",\n",
    "    \"Hold\",\n",
    "    \"Bring\",\n",
    ")"
   ]
  },
  {
   "cell_type": "code",
   "execution_count": 45,
   "id": "30ec997f",
   "metadata": {},
   "outputs": [],
   "source": [
    "def interal_similarity(embeds, tk, words):\n",
    "    ids = [x for x in tk.convert_tokens_to_ids(words) if x is not None]\n",
    "    print(f\"{len(words)-len(ids)} words more than one token\")\n",
    "    vecs = torch.stack([embeds[x] for x in ids])\n",
    "    norm1 = torch.sum(\n",
    "        torch.abs(vecs.repeat(len(vecs), 1) - vecs.repeat_interleave(len(vecs), dim=0))\n",
    "    ) / (len(vecs) * (len(vecs) - 1))\n",
    "    norm2 = torch.sum(\n",
    "        (vecs.repeat(len(vecs), 1) - vecs.repeat_interleave(len(vecs), dim=0)).pow(2)\n",
    "    ) / (len(vecs) * (len(vecs) - 1))\n",
    "\n",
    "    return norm1.item(), norm2.item()"
   ]
  },
  {
   "cell_type": "code",
   "execution_count": 46,
   "id": "75dba1be",
   "metadata": {},
   "outputs": [],
   "source": [
    "appearance_adjectives, color_adjectives, places, verbs = [\n",
    "    [\"Ġ\" + x.lower() for x in y]\n",
    "    for y in (appearance_adjectives, color_adjectives, places, verbs)\n",
    "]"
   ]
  },
  {
   "cell_type": "code",
   "execution_count": 21,
   "id": "a4e5f1da",
   "metadata": {},
   "outputs": [
    {
     "data": {
      "text/plain": [
       "['Ġschool',\n",
       " 'Ġhospital',\n",
       " 'Ġrestaurant',\n",
       " 'Ġairport',\n",
       " 'Ġoffice',\n",
       " 'Ġbeach',\n",
       " 'Ġforest',\n",
       " 'Ġchurch',\n",
       " 'Ġlibrary',\n",
       " 'Ġtheater']"
      ]
     },
     "execution_count": 21,
     "metadata": {},
     "output_type": "execute_result"
    }
   ],
   "source": [
    "places"
   ]
  },
  {
   "cell_type": "code",
   "execution_count": 22,
   "id": "7fd1f558",
   "metadata": {},
   "outputs": [
    {
     "ename": "NameError",
     "evalue": "name 'output_embeds' is not defined",
     "output_type": "error",
     "traceback": [
      "\u001b[0;31m---------------------------------------------------------------------------\u001b[0m",
      "\u001b[0;31mNameError\u001b[0m                                 Traceback (most recent call last)",
      "Cell \u001b[0;32mIn[22], line 1\u001b[0m\n\u001b[0;32m----> 1\u001b[0m interal_similarity(\u001b[43moutput_embeds\u001b[49m, tk, appearance_adjectives)\n",
      "\u001b[0;31mNameError\u001b[0m: name 'output_embeds' is not defined"
     ]
    }
   ],
   "source": [
    "interal_similarity(output_embeds, tk, appearance_adjectives)"
   ]
  },
  {
   "cell_type": "code",
   "execution_count": 23,
   "id": "2c60638d",
   "metadata": {},
   "outputs": [],
   "source": [
    "school = tk.convert_tokens_to_ids(\"Ġschool\")\n",
    "airport = tk.convert_tokens_to_ids(\"Ġairport\")\n",
    "blue = tk.convert_tokens_to_ids(\"Ġblue\")\n",
    "black = tk.convert_tokens_to_ids(\"Ġblack\")"
   ]
  },
  {
   "cell_type": "code",
   "execution_count": 24,
   "id": "4dd5f6f5",
   "metadata": {},
   "outputs": [],
   "source": [
    "blue, black, school, airport = [input_embeds[x] for x in (blue, black, school, airport)]"
   ]
  },
  {
   "cell_type": "code",
   "execution_count": 25,
   "id": "e0e2c221",
   "metadata": {},
   "outputs": [
    {
     "data": {
      "text/plain": [
       "(tensor(25.5631), tensor(25.3781), tensor(24.3225), tensor(30.9524))"
      ]
     },
     "execution_count": 25,
     "metadata": {},
     "output_type": "execute_result"
    }
   ],
   "source": [
    "blue.abs().sum(), black.abs().sum(), school.abs().sum(), airport.abs().sum()"
   ]
  },
  {
   "cell_type": "code",
   "execution_count": 26,
   "id": "06177cd8",
   "metadata": {},
   "outputs": [
    {
     "data": {
      "text/plain": [
       "(tensor(29.4910), tensor(35.6619), tensor(32.4840), tensor(38.8277))"
      ]
     },
     "execution_count": 26,
     "metadata": {},
     "output_type": "execute_result"
    }
   ],
   "source": [
    "(blue - black).abs().sum(), (school - airport).abs().sum(), (\n",
    "    blue - school\n",
    ").abs().sum(), (blue - airport).abs().sum()"
   ]
  },
  {
   "cell_type": "code",
   "execution_count": 51,
   "id": "aa27f185",
   "metadata": {},
   "outputs": [],
   "source": [
    "use_embeds = output_embeds"
   ]
  },
  {
   "cell_type": "code",
   "execution_count": 52,
   "id": "47225d76",
   "metadata": {},
   "outputs": [
    {
     "data": {
      "text/html": [
       "<style>#sk-container-id-2 {\n",
       "  /* Definition of color scheme common for light and dark mode */\n",
       "  --sklearn-color-text: black;\n",
       "  --sklearn-color-line: gray;\n",
       "  /* Definition of color scheme for unfitted estimators */\n",
       "  --sklearn-color-unfitted-level-0: #fff5e6;\n",
       "  --sklearn-color-unfitted-level-1: #f6e4d2;\n",
       "  --sklearn-color-unfitted-level-2: #ffe0b3;\n",
       "  --sklearn-color-unfitted-level-3: chocolate;\n",
       "  /* Definition of color scheme for fitted estimators */\n",
       "  --sklearn-color-fitted-level-0: #f0f8ff;\n",
       "  --sklearn-color-fitted-level-1: #d4ebff;\n",
       "  --sklearn-color-fitted-level-2: #b3dbfd;\n",
       "  --sklearn-color-fitted-level-3: cornflowerblue;\n",
       "\n",
       "  /* Specific color for light theme */\n",
       "  --sklearn-color-text-on-default-background: var(--sg-text-color, var(--theme-code-foreground, var(--jp-content-font-color1, black)));\n",
       "  --sklearn-color-background: var(--sg-background-color, var(--theme-background, var(--jp-layout-color0, white)));\n",
       "  --sklearn-color-border-box: var(--sg-text-color, var(--theme-code-foreground, var(--jp-content-font-color1, black)));\n",
       "  --sklearn-color-icon: #696969;\n",
       "\n",
       "  @media (prefers-color-scheme: dark) {\n",
       "    /* Redefinition of color scheme for dark theme */\n",
       "    --sklearn-color-text-on-default-background: var(--sg-text-color, var(--theme-code-foreground, var(--jp-content-font-color1, white)));\n",
       "    --sklearn-color-background: var(--sg-background-color, var(--theme-background, var(--jp-layout-color0, #111)));\n",
       "    --sklearn-color-border-box: var(--sg-text-color, var(--theme-code-foreground, var(--jp-content-font-color1, white)));\n",
       "    --sklearn-color-icon: #878787;\n",
       "  }\n",
       "}\n",
       "\n",
       "#sk-container-id-2 {\n",
       "  color: var(--sklearn-color-text);\n",
       "}\n",
       "\n",
       "#sk-container-id-2 pre {\n",
       "  padding: 0;\n",
       "}\n",
       "\n",
       "#sk-container-id-2 input.sk-hidden--visually {\n",
       "  border: 0;\n",
       "  clip: rect(1px 1px 1px 1px);\n",
       "  clip: rect(1px, 1px, 1px, 1px);\n",
       "  height: 1px;\n",
       "  margin: -1px;\n",
       "  overflow: hidden;\n",
       "  padding: 0;\n",
       "  position: absolute;\n",
       "  width: 1px;\n",
       "}\n",
       "\n",
       "#sk-container-id-2 div.sk-dashed-wrapped {\n",
       "  border: 1px dashed var(--sklearn-color-line);\n",
       "  margin: 0 0.4em 0.5em 0.4em;\n",
       "  box-sizing: border-box;\n",
       "  padding-bottom: 0.4em;\n",
       "  background-color: var(--sklearn-color-background);\n",
       "}\n",
       "\n",
       "#sk-container-id-2 div.sk-container {\n",
       "  /* jupyter's `normalize.less` sets `[hidden] { display: none; }`\n",
       "     but bootstrap.min.css set `[hidden] { display: none !important; }`\n",
       "     so we also need the `!important` here to be able to override the\n",
       "     default hidden behavior on the sphinx rendered scikit-learn.org.\n",
       "     See: https://github.com/scikit-learn/scikit-learn/issues/21755 */\n",
       "  display: inline-block !important;\n",
       "  position: relative;\n",
       "}\n",
       "\n",
       "#sk-container-id-2 div.sk-text-repr-fallback {\n",
       "  display: none;\n",
       "}\n",
       "\n",
       "div.sk-parallel-item,\n",
       "div.sk-serial,\n",
       "div.sk-item {\n",
       "  /* draw centered vertical line to link estimators */\n",
       "  background-image: linear-gradient(var(--sklearn-color-text-on-default-background), var(--sklearn-color-text-on-default-background));\n",
       "  background-size: 2px 100%;\n",
       "  background-repeat: no-repeat;\n",
       "  background-position: center center;\n",
       "}\n",
       "\n",
       "/* Parallel-specific style estimator block */\n",
       "\n",
       "#sk-container-id-2 div.sk-parallel-item::after {\n",
       "  content: \"\";\n",
       "  width: 100%;\n",
       "  border-bottom: 2px solid var(--sklearn-color-text-on-default-background);\n",
       "  flex-grow: 1;\n",
       "}\n",
       "\n",
       "#sk-container-id-2 div.sk-parallel {\n",
       "  display: flex;\n",
       "  align-items: stretch;\n",
       "  justify-content: center;\n",
       "  background-color: var(--sklearn-color-background);\n",
       "  position: relative;\n",
       "}\n",
       "\n",
       "#sk-container-id-2 div.sk-parallel-item {\n",
       "  display: flex;\n",
       "  flex-direction: column;\n",
       "}\n",
       "\n",
       "#sk-container-id-2 div.sk-parallel-item:first-child::after {\n",
       "  align-self: flex-end;\n",
       "  width: 50%;\n",
       "}\n",
       "\n",
       "#sk-container-id-2 div.sk-parallel-item:last-child::after {\n",
       "  align-self: flex-start;\n",
       "  width: 50%;\n",
       "}\n",
       "\n",
       "#sk-container-id-2 div.sk-parallel-item:only-child::after {\n",
       "  width: 0;\n",
       "}\n",
       "\n",
       "/* Serial-specific style estimator block */\n",
       "\n",
       "#sk-container-id-2 div.sk-serial {\n",
       "  display: flex;\n",
       "  flex-direction: column;\n",
       "  align-items: center;\n",
       "  background-color: var(--sklearn-color-background);\n",
       "  padding-right: 1em;\n",
       "  padding-left: 1em;\n",
       "}\n",
       "\n",
       "\n",
       "/* Toggleable style: style used for estimator/Pipeline/ColumnTransformer box that is\n",
       "clickable and can be expanded/collapsed.\n",
       "- Pipeline and ColumnTransformer use this feature and define the default style\n",
       "- Estimators will overwrite some part of the style using the `sk-estimator` class\n",
       "*/\n",
       "\n",
       "/* Pipeline and ColumnTransformer style (default) */\n",
       "\n",
       "#sk-container-id-2 div.sk-toggleable {\n",
       "  /* Default theme specific background. It is overwritten whether we have a\n",
       "  specific estimator or a Pipeline/ColumnTransformer */\n",
       "  background-color: var(--sklearn-color-background);\n",
       "}\n",
       "\n",
       "/* Toggleable label */\n",
       "#sk-container-id-2 label.sk-toggleable__label {\n",
       "  cursor: pointer;\n",
       "  display: block;\n",
       "  width: 100%;\n",
       "  margin-bottom: 0;\n",
       "  padding: 0.5em;\n",
       "  box-sizing: border-box;\n",
       "  text-align: center;\n",
       "}\n",
       "\n",
       "#sk-container-id-2 label.sk-toggleable__label-arrow:before {\n",
       "  /* Arrow on the left of the label */\n",
       "  content: \"▸\";\n",
       "  float: left;\n",
       "  margin-right: 0.25em;\n",
       "  color: var(--sklearn-color-icon);\n",
       "}\n",
       "\n",
       "#sk-container-id-2 label.sk-toggleable__label-arrow:hover:before {\n",
       "  color: var(--sklearn-color-text);\n",
       "}\n",
       "\n",
       "/* Toggleable content - dropdown */\n",
       "\n",
       "#sk-container-id-2 div.sk-toggleable__content {\n",
       "  max-height: 0;\n",
       "  max-width: 0;\n",
       "  overflow: hidden;\n",
       "  text-align: left;\n",
       "  /* unfitted */\n",
       "  background-color: var(--sklearn-color-unfitted-level-0);\n",
       "}\n",
       "\n",
       "#sk-container-id-2 div.sk-toggleable__content.fitted {\n",
       "  /* fitted */\n",
       "  background-color: var(--sklearn-color-fitted-level-0);\n",
       "}\n",
       "\n",
       "#sk-container-id-2 div.sk-toggleable__content pre {\n",
       "  margin: 0.2em;\n",
       "  border-radius: 0.25em;\n",
       "  color: var(--sklearn-color-text);\n",
       "  /* unfitted */\n",
       "  background-color: var(--sklearn-color-unfitted-level-0);\n",
       "}\n",
       "\n",
       "#sk-container-id-2 div.sk-toggleable__content.fitted pre {\n",
       "  /* unfitted */\n",
       "  background-color: var(--sklearn-color-fitted-level-0);\n",
       "}\n",
       "\n",
       "#sk-container-id-2 input.sk-toggleable__control:checked~div.sk-toggleable__content {\n",
       "  /* Expand drop-down */\n",
       "  max-height: 200px;\n",
       "  max-width: 100%;\n",
       "  overflow: auto;\n",
       "}\n",
       "\n",
       "#sk-container-id-2 input.sk-toggleable__control:checked~label.sk-toggleable__label-arrow:before {\n",
       "  content: \"▾\";\n",
       "}\n",
       "\n",
       "/* Pipeline/ColumnTransformer-specific style */\n",
       "\n",
       "#sk-container-id-2 div.sk-label input.sk-toggleable__control:checked~label.sk-toggleable__label {\n",
       "  color: var(--sklearn-color-text);\n",
       "  background-color: var(--sklearn-color-unfitted-level-2);\n",
       "}\n",
       "\n",
       "#sk-container-id-2 div.sk-label.fitted input.sk-toggleable__control:checked~label.sk-toggleable__label {\n",
       "  background-color: var(--sklearn-color-fitted-level-2);\n",
       "}\n",
       "\n",
       "/* Estimator-specific style */\n",
       "\n",
       "/* Colorize estimator box */\n",
       "#sk-container-id-2 div.sk-estimator input.sk-toggleable__control:checked~label.sk-toggleable__label {\n",
       "  /* unfitted */\n",
       "  background-color: var(--sklearn-color-unfitted-level-2);\n",
       "}\n",
       "\n",
       "#sk-container-id-2 div.sk-estimator.fitted input.sk-toggleable__control:checked~label.sk-toggleable__label {\n",
       "  /* fitted */\n",
       "  background-color: var(--sklearn-color-fitted-level-2);\n",
       "}\n",
       "\n",
       "#sk-container-id-2 div.sk-label label.sk-toggleable__label,\n",
       "#sk-container-id-2 div.sk-label label {\n",
       "  /* The background is the default theme color */\n",
       "  color: var(--sklearn-color-text-on-default-background);\n",
       "}\n",
       "\n",
       "/* On hover, darken the color of the background */\n",
       "#sk-container-id-2 div.sk-label:hover label.sk-toggleable__label {\n",
       "  color: var(--sklearn-color-text);\n",
       "  background-color: var(--sklearn-color-unfitted-level-2);\n",
       "}\n",
       "\n",
       "/* Label box, darken color on hover, fitted */\n",
       "#sk-container-id-2 div.sk-label.fitted:hover label.sk-toggleable__label.fitted {\n",
       "  color: var(--sklearn-color-text);\n",
       "  background-color: var(--sklearn-color-fitted-level-2);\n",
       "}\n",
       "\n",
       "/* Estimator label */\n",
       "\n",
       "#sk-container-id-2 div.sk-label label {\n",
       "  font-family: monospace;\n",
       "  font-weight: bold;\n",
       "  display: inline-block;\n",
       "  line-height: 1.2em;\n",
       "}\n",
       "\n",
       "#sk-container-id-2 div.sk-label-container {\n",
       "  text-align: center;\n",
       "}\n",
       "\n",
       "/* Estimator-specific */\n",
       "#sk-container-id-2 div.sk-estimator {\n",
       "  font-family: monospace;\n",
       "  border: 1px dotted var(--sklearn-color-border-box);\n",
       "  border-radius: 0.25em;\n",
       "  box-sizing: border-box;\n",
       "  margin-bottom: 0.5em;\n",
       "  /* unfitted */\n",
       "  background-color: var(--sklearn-color-unfitted-level-0);\n",
       "}\n",
       "\n",
       "#sk-container-id-2 div.sk-estimator.fitted {\n",
       "  /* fitted */\n",
       "  background-color: var(--sklearn-color-fitted-level-0);\n",
       "}\n",
       "\n",
       "/* on hover */\n",
       "#sk-container-id-2 div.sk-estimator:hover {\n",
       "  /* unfitted */\n",
       "  background-color: var(--sklearn-color-unfitted-level-2);\n",
       "}\n",
       "\n",
       "#sk-container-id-2 div.sk-estimator.fitted:hover {\n",
       "  /* fitted */\n",
       "  background-color: var(--sklearn-color-fitted-level-2);\n",
       "}\n",
       "\n",
       "/* Specification for estimator info (e.g. \"i\" and \"?\") */\n",
       "\n",
       "/* Common style for \"i\" and \"?\" */\n",
       "\n",
       ".sk-estimator-doc-link,\n",
       "a:link.sk-estimator-doc-link,\n",
       "a:visited.sk-estimator-doc-link {\n",
       "  float: right;\n",
       "  font-size: smaller;\n",
       "  line-height: 1em;\n",
       "  font-family: monospace;\n",
       "  background-color: var(--sklearn-color-background);\n",
       "  border-radius: 1em;\n",
       "  height: 1em;\n",
       "  width: 1em;\n",
       "  text-decoration: none !important;\n",
       "  margin-left: 1ex;\n",
       "  /* unfitted */\n",
       "  border: var(--sklearn-color-unfitted-level-1) 1pt solid;\n",
       "  color: var(--sklearn-color-unfitted-level-1);\n",
       "}\n",
       "\n",
       ".sk-estimator-doc-link.fitted,\n",
       "a:link.sk-estimator-doc-link.fitted,\n",
       "a:visited.sk-estimator-doc-link.fitted {\n",
       "  /* fitted */\n",
       "  border: var(--sklearn-color-fitted-level-1) 1pt solid;\n",
       "  color: var(--sklearn-color-fitted-level-1);\n",
       "}\n",
       "\n",
       "/* On hover */\n",
       "div.sk-estimator:hover .sk-estimator-doc-link:hover,\n",
       ".sk-estimator-doc-link:hover,\n",
       "div.sk-label-container:hover .sk-estimator-doc-link:hover,\n",
       ".sk-estimator-doc-link:hover {\n",
       "  /* unfitted */\n",
       "  background-color: var(--sklearn-color-unfitted-level-3);\n",
       "  color: var(--sklearn-color-background);\n",
       "  text-decoration: none;\n",
       "}\n",
       "\n",
       "div.sk-estimator.fitted:hover .sk-estimator-doc-link.fitted:hover,\n",
       ".sk-estimator-doc-link.fitted:hover,\n",
       "div.sk-label-container:hover .sk-estimator-doc-link.fitted:hover,\n",
       ".sk-estimator-doc-link.fitted:hover {\n",
       "  /* fitted */\n",
       "  background-color: var(--sklearn-color-fitted-level-3);\n",
       "  color: var(--sklearn-color-background);\n",
       "  text-decoration: none;\n",
       "}\n",
       "\n",
       "/* Span, style for the box shown on hovering the info icon */\n",
       ".sk-estimator-doc-link span {\n",
       "  display: none;\n",
       "  z-index: 9999;\n",
       "  position: relative;\n",
       "  font-weight: normal;\n",
       "  right: .2ex;\n",
       "  padding: .5ex;\n",
       "  margin: .5ex;\n",
       "  width: min-content;\n",
       "  min-width: 20ex;\n",
       "  max-width: 50ex;\n",
       "  color: var(--sklearn-color-text);\n",
       "  box-shadow: 2pt 2pt 4pt #999;\n",
       "  /* unfitted */\n",
       "  background: var(--sklearn-color-unfitted-level-0);\n",
       "  border: .5pt solid var(--sklearn-color-unfitted-level-3);\n",
       "}\n",
       "\n",
       ".sk-estimator-doc-link.fitted span {\n",
       "  /* fitted */\n",
       "  background: var(--sklearn-color-fitted-level-0);\n",
       "  border: var(--sklearn-color-fitted-level-3);\n",
       "}\n",
       "\n",
       ".sk-estimator-doc-link:hover span {\n",
       "  display: block;\n",
       "}\n",
       "\n",
       "/* \"?\"-specific style due to the `<a>` HTML tag */\n",
       "\n",
       "#sk-container-id-2 a.estimator_doc_link {\n",
       "  float: right;\n",
       "  font-size: 1rem;\n",
       "  line-height: 1em;\n",
       "  font-family: monospace;\n",
       "  background-color: var(--sklearn-color-background);\n",
       "  border-radius: 1rem;\n",
       "  height: 1rem;\n",
       "  width: 1rem;\n",
       "  text-decoration: none;\n",
       "  /* unfitted */\n",
       "  color: var(--sklearn-color-unfitted-level-1);\n",
       "  border: var(--sklearn-color-unfitted-level-1) 1pt solid;\n",
       "}\n",
       "\n",
       "#sk-container-id-2 a.estimator_doc_link.fitted {\n",
       "  /* fitted */\n",
       "  border: var(--sklearn-color-fitted-level-1) 1pt solid;\n",
       "  color: var(--sklearn-color-fitted-level-1);\n",
       "}\n",
       "\n",
       "/* On hover */\n",
       "#sk-container-id-2 a.estimator_doc_link:hover {\n",
       "  /* unfitted */\n",
       "  background-color: var(--sklearn-color-unfitted-level-3);\n",
       "  color: var(--sklearn-color-background);\n",
       "  text-decoration: none;\n",
       "}\n",
       "\n",
       "#sk-container-id-2 a.estimator_doc_link.fitted:hover {\n",
       "  /* fitted */\n",
       "  background-color: var(--sklearn-color-fitted-level-3);\n",
       "}\n",
       "</style><div id=\"sk-container-id-2\" class=\"sk-top-container\"><div class=\"sk-text-repr-fallback\"><pre>IncrementalPCA(batch_size=100, n_components=2)</pre><b>In a Jupyter environment, please rerun this cell to show the HTML representation or trust the notebook. <br />On GitHub, the HTML representation is unable to render, please try loading this page with nbviewer.org.</b></div><div class=\"sk-container\" hidden><div class=\"sk-item\"><div class=\"sk-estimator fitted sk-toggleable\"><input class=\"sk-toggleable__control sk-hidden--visually\" id=\"sk-estimator-id-2\" type=\"checkbox\" checked><label for=\"sk-estimator-id-2\" class=\"sk-toggleable__label fitted sk-toggleable__label-arrow fitted\">&nbsp;&nbsp;IncrementalPCA<a class=\"sk-estimator-doc-link fitted\" rel=\"noreferrer\" target=\"_blank\" href=\"https://scikit-learn.org/1.5/modules/generated/sklearn.decomposition.IncrementalPCA.html\">?<span>Documentation for IncrementalPCA</span></a><span class=\"sk-estimator-doc-link fitted\">i<span>Fitted</span></span></label><div class=\"sk-toggleable__content fitted\"><pre>IncrementalPCA(batch_size=100, n_components=2)</pre></div> </div></div></div></div>"
      ],
      "text/plain": [
       "IncrementalPCA(batch_size=100, n_components=2)"
      ]
     },
     "execution_count": 52,
     "metadata": {},
     "output_type": "execute_result"
    }
   ],
   "source": [
    "pca = IncrementalPCA(n_components=2, batch_size=100)\n",
    "pca.fit(use_embeds[:10000])"
   ]
  },
  {
   "cell_type": "code",
   "execution_count": 53,
   "id": "ddd1d607",
   "metadata": {},
   "outputs": [],
   "source": [
    "ids = [x for x in tk.convert_tokens_to_ids(places) if x is not None]\n",
    "embeds = use_embeds[ids]"
   ]
  },
  {
   "cell_type": "code",
   "execution_count": 54,
   "id": "d9cf2af6",
   "metadata": {},
   "outputs": [],
   "source": [
    "pca_embeds = pca.transform(embeds)"
   ]
  },
  {
   "cell_type": "code",
   "execution_count": 55,
   "id": "8fdda3cc",
   "metadata": {},
   "outputs": [
    {
     "data": {
      "text/plain": [
       "array([[ 0.18265882,  0.09365605],\n",
       "       [ 0.06621856,  0.07392839],\n",
       "       [ 0.04430844,  0.05028866],\n",
       "       [ 0.00748696,  0.04295382],\n",
       "       [ 0.1507649 ,  0.07784452],\n",
       "       [ 0.08033056,  0.05986979],\n",
       "       [ 0.07855648,  0.08869194],\n",
       "       [ 0.07005025,  0.06651732],\n",
       "       [ 0.08995273,  0.06242042],\n",
       "       [-0.0046071 ,  0.03701215]])"
      ]
     },
     "execution_count": 55,
     "metadata": {},
     "output_type": "execute_result"
    }
   ],
   "source": [
    "pca_embeds"
   ]
  },
  {
   "cell_type": "code",
   "execution_count": 56,
   "id": "7eb631a9",
   "metadata": {},
   "outputs": [],
   "source": [
    "def plot_pca(pca: PCA, words: list[str], label=None, color=None):\n",
    "    ids = [x for x in tk.convert_tokens_to_ids(words) if x is not None]\n",
    "    embeds = use_embeds[ids]\n",
    "    pca_embeds = pca.transform(embeds)\n",
    "    plt.scatter(pca_embeds[:, 0], pca_embeds[:, 1], label=label, color=color)"
   ]
  },
  {
   "cell_type": "code",
   "execution_count": 58,
   "id": "fca634d1",
   "metadata": {},
   "outputs": [
    {
     "data": {
      "image/png": "[encoded data removed]",
      "text/plain": [
       "<Figure size 640x480 with 1 Axes>"
      ]
     },
     "metadata": {},
     "output_type": "display_data"
    }
   ],
   "source": [
    "plot_pca(pca, appearance_adjectives, label=\"appearance\", color=\"blue\")\n",
    "plot_pca(pca, color_adjectives, label=\"color\", color=\"red\")\n",
    "plot_pca(pca, places, label=\"places\", color=\"green\")\n",
    "plot_pca(pca, verbs, label=\"verbs\", color=\"yellow\")\n",
    "plt.legend()\n",
    "plt.savefig(\"plots/pca_output_embeds.png\")"
   ]
  }
 ],
 "metadata": {
  "kernelspec": {
   "display_name": "sh_finetuning",
   "language": "python",
   "name": "python3"
  },
  "language_info": {
   "codemirror_mode": {
    "name": "ipython",
    "version": 3
   },
   "file_extension": ".py",
   "mimetype": "text/x-python",
   "name": "python",
   "nbconvert_exporter": "python",
   "pygments_lexer": "ipython3",
   "version": "3.10.13"
  }
 },
 "nbformat": 4,
 "nbformat_minor": 5
}
